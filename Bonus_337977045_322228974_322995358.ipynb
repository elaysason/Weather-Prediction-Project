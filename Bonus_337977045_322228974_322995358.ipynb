{
 "cells": [
  {
   "cell_type": "markdown",
   "id": "0e77997b",
   "metadata": {},
   "source": [
    "BONUS: We explored the classification problem of identifying extreme rainfall patterns. We seperated the data set into the following three groups: days that had extreme rainfall, normal rainfall and no rainfall. During the analysis, we succeeded in finding certain patterns in the rainfall from the previous days with a degree of correlation to the day after. We used this to create clusters which enriched the features on which a Naive Bayes model was run and met with reasonable success."
   ]
  },
  {
   "cell_type": "code",
   "execution_count": 41,
   "id": "400410da",
   "metadata": {},
   "outputs": [],
   "source": [
    "import findspark\n",
    "findspark.init()\n",
    "from pyspark.sql import SparkSession\n",
    "import pyspark.sql.functions as F\n",
    "from pyspark.sql.types import *\n",
    "import os\n",
    "import pandas as pd\n",
    "import seaborn as sns\n",
    "from pylab import rcParams\n",
    "rcParams['figure.figsize'] = 6, 3\n",
    "import matplotlib.pyplot as plt\n",
    "from statistics import mean\n",
    "from sklearn.cluster import KMeans\n",
    "import random\n",
    "import seaborn as sns\n",
    "import matplotlib.pyplot as plt\n",
    "from sklearn.metrics import silhouette_score\n",
    "from pyspark.ml.feature import OneHotEncoder\n",
    "from pyspark.ml.feature import VectorAssembler\n",
    "from pyspark.ml.clustering import KMeans\n",
    "from pyspark.ml.classification import NaiveBayes\n",
    "from pyspark.ml.evaluation import MulticlassClassificationEvaluator"
   ]
  },
  {
   "cell_type": "code",
   "execution_count": 3,
   "id": "93a7b993",
   "metadata": {},
   "outputs": [],
   "source": [
    "def init_spark(app_name: str):\n",
    "    spark = SparkSession.builder.appName(app_name).getOrCreate()\n",
    "    sc = spark.sparkContext\n",
    "    return spark, sc\n",
    "\n",
    "# # To dynamically enable Kafka package we can set an environment variable:\n",
    "os.environ['PYSPARK_SUBMIT_ARGS'] = \"--packages=org.apache.spark:spark-sql-kafka-0-10_2.12:3.1.1,\" \\\n",
    "                             \"com.microsoft.azure:spark-mssql-connector_2.12:1.1.0 pyspark-shell\"\n",
    "username = \"arieln\"\n",
    "password = \"Qwerty12!\"\n",
    "server_name = \"jdbc:sqlserver://technionddscourse.database.windows.net:1433\"\n",
    "database_name = \"arieln\"\n",
    "url = server_name + \";\" + \"databaseName=\" + database_name + \";\""
   ]
  },
  {
   "cell_type": "code",
   "execution_count": 4,
   "id": "fad7a0c5",
   "metadata": {},
   "outputs": [],
   "source": [
    "spark, sc = init_spark('bonus')"
   ]
  },
  {
   "cell_type": "markdown",
   "id": "2e261e32",
   "metadata": {},
   "source": [
    "Create data set by joining two dataframes created in the database"
   ]
  },
  {
   "cell_type": "code",
   "execution_count": 115,
   "id": "6b78010f",
   "metadata": {},
   "outputs": [],
   "source": [
    "time_df = spark.read \\\n",
    "        .format(\"com.microsoft.sqlserver.jdbc.spark\") \\\n",
    "        .option(\"url\", url) \\\n",
    "        .option(\"dbtable\", \"timeDF\") \\\n",
    "        .option(\"user\", username) \\\n",
    "        .option(\"password\", password).load()\n",
    "spatial_df = spark.read \\\n",
    "        .format(\"com.microsoft.sqlserver.jdbc.spark\") \\\n",
    "        .option(\"url\", url) \\\n",
    "        .option(\"dbtable\", \"spatialDF\") \\\n",
    "        .option(\"user\", username) \\\n",
    "        .option(\"password\", password).load()"
   ]
  },
  {
   "cell_type": "code",
   "execution_count": 117,
   "id": "5c8a529a",
   "metadata": {
    "scrolled": true
   },
   "outputs": [],
   "source": [
    "raw_model_df = time_df.join(spatial_df, on=\"StationId\")"
   ]
  },
  {
   "cell_type": "code",
   "execution_count": 108,
   "id": "0cff1e33",
   "metadata": {},
   "outputs": [
    {
     "name": "stdout",
     "output_type": "stream",
     "text": [
      "+-----------+----------+-----+--------+---------+------------------+------------------+------------------+-------------+\n",
      "|  StationId|      Date|label|latitude|longitude|           maxTemp|           minTemp|           avgPrcp|cluster_label|\n",
      "+-----------+----------+-----+--------+---------+------------------+------------------+------------------+-------------+\n",
      "|GME00126586|2016-02-17|    0| 49.3444|   7.2303|287.96938775510205|-34.87755102040816|23.666849728520816|            1|\n",
      "|GME00126586|2016-01-11|  160| 49.3444|   7.2303|287.96938775510205|-34.87755102040816|23.666849728520816|            1|\n",
      "|GME00126586|2016-08-19|    2| 49.3444|   7.2303|287.96938775510205|-34.87755102040816|23.666849728520816|            1|\n",
      "|GME00126586|2016-06-30|    0| 49.3444|   7.2303|287.96938775510205|-34.87755102040816|23.666849728520816|            1|\n",
      "|GME00126586|2016-03-16|    0| 49.3444|   7.2303|287.96938775510205|-34.87755102040816|23.666849728520816|            1|\n",
      "+-----------+----------+-----+--------+---------+------------------+------------------+------------------+-------------+\n",
      "only showing top 5 rows\n",
      "\n"
     ]
    }
   ],
   "source": [
    "raw_model_df.show(5)"
   ]
  },
  {
   "cell_type": "code",
   "execution_count": 118,
   "id": "8772c244",
   "metadata": {},
   "outputs": [],
   "source": [
    "raw_model_df.createOrReplaceTempView(\"temp\")\n",
    "with_lag  = spark.sql(\"SELECT *, Lag(label, 1) OVER w one_PRCP, \" + \n",
    "                        \"Lag(label, 2) OVER w two_PRCP, Lag(label, 3) OVER w three_PRCP \" +\n",
    "                        \"FROM temp \" + \n",
    "                        \"WINDOW w AS (PARTITION BY StationId ORDER BY date ASC)\")"
   ]
  },
  {
   "cell_type": "code",
   "execution_count": 109,
   "id": "fef96c1f",
   "metadata": {
    "scrolled": true
   },
   "outputs": [
    {
     "name": "stdout",
     "output_type": "stream",
     "text": [
      "+-----------+----------+-----+--------+---------+------------------+------------------+------------------+-------------+--------+--------+----------+\n",
      "|  StationId|      Date|label|latitude|longitude|           maxTemp|           minTemp|           avgPrcp|cluster_label|one_PRCP|two_PRCP|three_PRCP|\n",
      "+-----------+----------+-----+--------+---------+------------------+------------------+------------------+-------------+--------+--------+----------+\n",
      "|GME00126586|2016-01-01|    5| 49.3444|   7.2303|287.96938775510205|-34.87755102040816|23.666849728520816|            1|    null|    null|      null|\n",
      "|GME00126586|2016-01-02|   39| 49.3444|   7.2303|287.96938775510205|-34.87755102040816|23.666849728520816|            1|       5|    null|      null|\n",
      "|GME00126586|2016-01-03|  101| 49.3444|   7.2303|287.96938775510205|-34.87755102040816|23.666849728520816|            1|      39|       5|      null|\n",
      "|GME00126586|2016-01-04|   41| 49.3444|   7.2303|287.96938775510205|-34.87755102040816|23.666849728520816|            1|     101|      39|         5|\n",
      "|GME00126586|2016-01-05|   78| 49.3444|   7.2303|287.96938775510205|-34.87755102040816|23.666849728520816|            1|      41|     101|        39|\n",
      "+-----------+----------+-----+--------+---------+------------------+------------------+------------------+-------------+--------+--------+----------+\n",
      "only showing top 5 rows\n",
      "\n"
     ]
    }
   ],
   "source": [
    "with_lag.show(5)"
   ]
  },
  {
   "cell_type": "markdown",
   "id": "35e98a07",
   "metadata": {},
   "source": [
    "As can be seen, the lags at the beginning of each station have null values. Let us remove those rows"
   ]
  },
  {
   "cell_type": "code",
   "execution_count": 119,
   "id": "64d9383b",
   "metadata": {},
   "outputs": [],
   "source": [
    "no_null_lags = with_lag.filter(F.col(\"three_PRCP\").isNotNull())"
   ]
  },
  {
   "cell_type": "code",
   "execution_count": 110,
   "id": "113ab790",
   "metadata": {
    "scrolled": true
   },
   "outputs": [
    {
     "name": "stdout",
     "output_type": "stream",
     "text": [
      "+-----------+----------+-----+--------+---------+------------------+------------------+------------------+-------------+--------+--------+----------+\n",
      "|  StationId|      Date|label|latitude|longitude|           maxTemp|           minTemp|           avgPrcp|cluster_label|one_PRCP|two_PRCP|three_PRCP|\n",
      "+-----------+----------+-----+--------+---------+------------------+------------------+------------------+-------------+--------+--------+----------+\n",
      "|GME00126586|2016-01-04|   41| 49.3444|   7.2303|287.96938775510205|-34.87755102040816|23.666849728520816|            1|     101|      39|         5|\n",
      "|GME00126586|2016-01-05|   78| 49.3444|   7.2303|287.96938775510205|-34.87755102040816|23.666849728520816|            1|      41|     101|        39|\n",
      "|GME00126586|2016-01-06|   10| 49.3444|   7.2303|287.96938775510205|-34.87755102040816|23.666849728520816|            1|      78|      41|       101|\n",
      "|GME00126586|2016-01-07|   57| 49.3444|   7.2303|287.96938775510205|-34.87755102040816|23.666849728520816|            1|      10|      78|        41|\n",
      "|GME00126586|2016-01-08|    0| 49.3444|   7.2303|287.96938775510205|-34.87755102040816|23.666849728520816|            1|      57|      10|        78|\n",
      "+-----------+----------+-----+--------+---------+------------------+------------------+------------------+-------------+--------+--------+----------+\n",
      "only showing top 5 rows\n",
      "\n"
     ]
    }
   ],
   "source": [
    "no_null_lags.show(5)"
   ]
  },
  {
   "cell_type": "markdown",
   "id": "dfd8b9c1",
   "metadata": {},
   "source": [
    "Let us define extreme rainfall as two standard deviations above the average"
   ]
  },
  {
   "cell_type": "code",
   "execution_count": 12,
   "id": "64d29a52",
   "metadata": {
    "scrolled": true
   },
   "outputs": [
    {
     "name": "stdout",
     "output_type": "stream",
     "text": [
      "+-----------------+\n",
      "|       avg(label)|\n",
      "+-----------------+\n",
      "|21.31476127094895|\n",
      "+-----------------+\n",
      "\n"
     ]
    }
   ],
   "source": [
    "average_rainfall = raw_model_df.agg(F.avg(F.col(\"label\")))\n",
    "average_rainfall.show()"
   ]
  },
  {
   "cell_type": "code",
   "execution_count": 13,
   "id": "a6fbe670",
   "metadata": {},
   "outputs": [
    {
     "name": "stdout",
     "output_type": "stream",
     "text": [
      "+------------------+\n",
      "|stddev_samp(label)|\n",
      "+------------------+\n",
      "| 54.51445647336993|\n",
      "+------------------+\n",
      "\n"
     ]
    }
   ],
   "source": [
    "std_rainfall = raw_model_df.agg(F.stddev(F.col(\"label\")))\n",
    "std_rainfall.show()"
   ]
  },
  {
   "cell_type": "code",
   "execution_count": 14,
   "id": "c0bc6949",
   "metadata": {
    "scrolled": false
   },
   "outputs": [
    {
     "data": {
      "text/plain": [
       "120.9"
      ]
     },
     "execution_count": 14,
     "metadata": {},
     "output_type": "execute_result"
    }
   ],
   "source": [
    "extreme_value = 20.28 + 2*50.31\n",
    "extreme_value"
   ]
  },
  {
   "cell_type": "code",
   "execution_count": 120,
   "id": "e429c59a",
   "metadata": {},
   "outputs": [],
   "source": [
    "classified_df = no_null_lags.withColumn(\"class_label\", F.when(F.col(\"label\") >= 120.9, 2).when(F.col(\"label\") == 0, 0).otherwise(1))"
   ]
  },
  {
   "cell_type": "code",
   "execution_count": 111,
   "id": "350b9557",
   "metadata": {},
   "outputs": [
    {
     "name": "stdout",
     "output_type": "stream",
     "text": [
      "+-----------+----------+-----+--------+---------+------------------+------------------+------------------+-------------+--------+--------+----------+-----------+\n",
      "|  StationId|      Date|label|latitude|longitude|           maxTemp|           minTemp|           avgPrcp|cluster_label|one_PRCP|two_PRCP|three_PRCP|class_label|\n",
      "+-----------+----------+-----+--------+---------+------------------+------------------+------------------+-------------+--------+--------+----------+-----------+\n",
      "|GME00126586|2016-01-04|   41| 49.3444|   7.2303|287.96938775510205|-34.87755102040816|23.666849728520816|            1|     101|      39|         5|          1|\n",
      "|GME00126586|2016-01-05|   78| 49.3444|   7.2303|287.96938775510205|-34.87755102040816|23.666849728520816|            1|      41|     101|        39|          1|\n",
      "|GME00126586|2016-01-06|   10| 49.3444|   7.2303|287.96938775510205|-34.87755102040816|23.666849728520816|            1|      78|      41|       101|          1|\n",
      "|GME00126586|2016-01-07|   57| 49.3444|   7.2303|287.96938775510205|-34.87755102040816|23.666849728520816|            1|      10|      78|        41|          1|\n",
      "|GME00126586|2016-01-08|    0| 49.3444|   7.2303|287.96938775510205|-34.87755102040816|23.666849728520816|            1|      57|      10|        78|          0|\n",
      "+-----------+----------+-----+--------+---------+------------------+------------------+------------------+-------------+--------+--------+----------+-----------+\n",
      "only showing top 5 rows\n",
      "\n"
     ]
    }
   ],
   "source": [
    "classified_df.show(5)"
   ]
  },
  {
   "cell_type": "markdown",
   "id": "d7acc56c",
   "metadata": {},
   "source": [
    "Let us take a random sample of stations in order to get an idea of the data in pandas and seaborn, which makes the data analysis easier and more descriptive. We will note that this analysis was performed twice on different sets of stations drawn from each classification group and the results were similar both times."
   ]
  },
  {
   "cell_type": "code",
   "execution_count": 17,
   "id": "5638a54b",
   "metadata": {},
   "outputs": [],
   "source": [
    "class2_df = classified_df.filter(F.col(\"class_label\") == 2)\n",
    "class1_df = classified_df.filter(F.col(\"class_label\") == 1)\n",
    "class0_df = classified_df.filter(F.col(\"class_label\") == 0)"
   ]
  },
  {
   "cell_type": "code",
   "execution_count": 18,
   "id": "75079ae0",
   "metadata": {},
   "outputs": [],
   "source": [
    "class2_sample = random.sample(class2_df.select(\"StationId\").distinct().toPandas()[\"StationId\"].tolist(), 50)\n",
    "class1_sample = random.sample(class1_df.select(\"StationId\").distinct().toPandas()[\"StationId\"].tolist(), 50)\n",
    "class0_sample = random.sample(class0_df.select(\"StationId\").distinct().toPandas()[\"StationId\"].tolist(), 50)"
   ]
  },
  {
   "cell_type": "code",
   "execution_count": 19,
   "id": "c7e3bda2",
   "metadata": {},
   "outputs": [],
   "source": [
    "only_extreme_df = class2_df.filter(F.col(\"StationId\").isin(class2_sample)).toPandas()\n",
    "not_extreme_df = class1_df.filter(F.col(\"StationId\").isin(class1_sample)).toPandas()\n",
    "no_rain_df = class0_df.filter(F.col(\"StationId\").isin(class0_sample)).toPandas()"
   ]
  },
  {
   "cell_type": "markdown",
   "id": "ccdd4639",
   "metadata": {},
   "source": [
    "Below we see that the biggest noticable difference is in the categories one_PRCP, two_PRCP, three_PRCP. Which have a clear order (from highest to lowest) extreme, normal, no rain. Meaning that there seems to be some sort of continuety between the previous days rains and todays rain. Also the STD follows the same order, meaning that it will probably be more straight forward to predict no rain, rather than either of the other two categories."
   ]
  },
  {
   "cell_type": "code",
   "execution_count": 21,
   "id": "aa4d8bcf",
   "metadata": {},
   "outputs": [
    {
     "data": {
      "text/html": [
       "<div>\n",
       "<style scoped>\n",
       "    .dataframe tbody tr th:only-of-type {\n",
       "        vertical-align: middle;\n",
       "    }\n",
       "\n",
       "    .dataframe tbody tr th {\n",
       "        vertical-align: top;\n",
       "    }\n",
       "\n",
       "    .dataframe thead th {\n",
       "        text-align: right;\n",
       "    }\n",
       "</style>\n",
       "<table border=\"1\" class=\"dataframe\">\n",
       "  <thead>\n",
       "    <tr style=\"text-align: right;\">\n",
       "      <th></th>\n",
       "      <th>label</th>\n",
       "      <th>latitude</th>\n",
       "      <th>longitude</th>\n",
       "      <th>maxTemp</th>\n",
       "      <th>minTemp</th>\n",
       "      <th>avgPrcp</th>\n",
       "      <th>cluster_label</th>\n",
       "      <th>one_PRCP</th>\n",
       "      <th>two_PRCP</th>\n",
       "      <th>three_PRCP</th>\n",
       "      <th>class_label</th>\n",
       "    </tr>\n",
       "  </thead>\n",
       "  <tbody>\n",
       "    <tr>\n",
       "      <th>count</th>\n",
       "      <td>3592.000000</td>\n",
       "      <td>3592.000000</td>\n",
       "      <td>3592.000000</td>\n",
       "      <td>3592.000000</td>\n",
       "      <td>3592.000000</td>\n",
       "      <td>3592.000000</td>\n",
       "      <td>3592.000000</td>\n",
       "      <td>3592.000000</td>\n",
       "      <td>3592.000000</td>\n",
       "      <td>3592.000000</td>\n",
       "      <td>3592.0</td>\n",
       "    </tr>\n",
       "    <tr>\n",
       "      <th>mean</th>\n",
       "      <td>209.210746</td>\n",
       "      <td>49.909203</td>\n",
       "      <td>7.943180</td>\n",
       "      <td>259.564847</td>\n",
       "      <td>-39.131196</td>\n",
       "      <td>25.396976</td>\n",
       "      <td>1.107739</td>\n",
       "      <td>61.454065</td>\n",
       "      <td>37.727728</td>\n",
       "      <td>29.536748</td>\n",
       "      <td>2.0</td>\n",
       "    </tr>\n",
       "    <tr>\n",
       "      <th>std</th>\n",
       "      <td>115.322295</td>\n",
       "      <td>4.711539</td>\n",
       "      <td>4.751384</td>\n",
       "      <td>35.393721</td>\n",
       "      <td>33.725471</td>\n",
       "      <td>11.782041</td>\n",
       "      <td>0.541588</td>\n",
       "      <td>111.488312</td>\n",
       "      <td>76.079202</td>\n",
       "      <td>63.824044</td>\n",
       "      <td>0.0</td>\n",
       "    </tr>\n",
       "    <tr>\n",
       "      <th>min</th>\n",
       "      <td>121.000000</td>\n",
       "      <td>27.922501</td>\n",
       "      <td>-15.389200</td>\n",
       "      <td>185.161616</td>\n",
       "      <td>-110.938144</td>\n",
       "      <td>2.578968</td>\n",
       "      <td>0.000000</td>\n",
       "      <td>0.000000</td>\n",
       "      <td>0.000000</td>\n",
       "      <td>0.000000</td>\n",
       "      <td>2.0</td>\n",
       "    </tr>\n",
       "    <tr>\n",
       "      <th>25%</th>\n",
       "      <td>141.000000</td>\n",
       "      <td>47.835602</td>\n",
       "      <td>5.555300</td>\n",
       "      <td>237.556701</td>\n",
       "      <td>-56.421053</td>\n",
       "      <td>17.089860</td>\n",
       "      <td>1.000000</td>\n",
       "      <td>0.000000</td>\n",
       "      <td>0.000000</td>\n",
       "      <td>0.000000</td>\n",
       "      <td>2.0</td>\n",
       "    </tr>\n",
       "    <tr>\n",
       "      <th>50%</th>\n",
       "      <td>171.000000</td>\n",
       "      <td>49.666901</td>\n",
       "      <td>9.765600</td>\n",
       "      <td>267.048077</td>\n",
       "      <td>-43.642105</td>\n",
       "      <td>20.507869</td>\n",
       "      <td>1.000000</td>\n",
       "      <td>20.000000</td>\n",
       "      <td>4.000000</td>\n",
       "      <td>1.000000</td>\n",
       "      <td>2.0</td>\n",
       "    </tr>\n",
       "    <tr>\n",
       "      <th>75%</th>\n",
       "      <td>237.000000</td>\n",
       "      <td>52.405602</td>\n",
       "      <td>11.598075</td>\n",
       "      <td>280.915789</td>\n",
       "      <td>-21.445545</td>\n",
       "      <td>27.324579</td>\n",
       "      <td>1.000000</td>\n",
       "      <td>78.000000</td>\n",
       "      <td>44.000000</td>\n",
       "      <td>30.000000</td>\n",
       "      <td>2.0</td>\n",
       "    </tr>\n",
       "    <tr>\n",
       "      <th>max</th>\n",
       "      <td>2209.000000</td>\n",
       "      <td>60.388302</td>\n",
       "      <td>13.841900</td>\n",
       "      <td>348.754545</td>\n",
       "      <td>151.288889</td>\n",
       "      <td>50.662624</td>\n",
       "      <td>2.000000</td>\n",
       "      <td>2209.000000</td>\n",
       "      <td>1212.000000</td>\n",
       "      <td>1212.000000</td>\n",
       "      <td>2.0</td>\n",
       "    </tr>\n",
       "  </tbody>\n",
       "</table>\n",
       "</div>"
      ],
      "text/plain": [
       "             label     latitude    longitude      maxTemp      minTemp  \\\n",
       "count  3592.000000  3592.000000  3592.000000  3592.000000  3592.000000   \n",
       "mean    209.210746    49.909203     7.943180   259.564847   -39.131196   \n",
       "std     115.322295     4.711539     4.751384    35.393721    33.725471   \n",
       "min     121.000000    27.922501   -15.389200   185.161616  -110.938144   \n",
       "25%     141.000000    47.835602     5.555300   237.556701   -56.421053   \n",
       "50%     171.000000    49.666901     9.765600   267.048077   -43.642105   \n",
       "75%     237.000000    52.405602    11.598075   280.915789   -21.445545   \n",
       "max    2209.000000    60.388302    13.841900   348.754545   151.288889   \n",
       "\n",
       "           avgPrcp  cluster_label     one_PRCP     two_PRCP   three_PRCP  \\\n",
       "count  3592.000000    3592.000000  3592.000000  3592.000000  3592.000000   \n",
       "mean     25.396976       1.107739    61.454065    37.727728    29.536748   \n",
       "std      11.782041       0.541588   111.488312    76.079202    63.824044   \n",
       "min       2.578968       0.000000     0.000000     0.000000     0.000000   \n",
       "25%      17.089860       1.000000     0.000000     0.000000     0.000000   \n",
       "50%      20.507869       1.000000    20.000000     4.000000     1.000000   \n",
       "75%      27.324579       1.000000    78.000000    44.000000    30.000000   \n",
       "max      50.662624       2.000000  2209.000000  1212.000000  1212.000000   \n",
       "\n",
       "       class_label  \n",
       "count       3592.0  \n",
       "mean           2.0  \n",
       "std            0.0  \n",
       "min            2.0  \n",
       "25%            2.0  \n",
       "50%            2.0  \n",
       "75%            2.0  \n",
       "max            2.0  "
      ]
     },
     "execution_count": 21,
     "metadata": {},
     "output_type": "execute_result"
    }
   ],
   "source": [
    "only_extreme_df.describe()"
   ]
  },
  {
   "cell_type": "code",
   "execution_count": 22,
   "id": "a69f2be6",
   "metadata": {},
   "outputs": [
    {
     "data": {
      "text/html": [
       "<div>\n",
       "<style scoped>\n",
       "    .dataframe tbody tr th:only-of-type {\n",
       "        vertical-align: middle;\n",
       "    }\n",
       "\n",
       "    .dataframe tbody tr th {\n",
       "        vertical-align: top;\n",
       "    }\n",
       "\n",
       "    .dataframe thead th {\n",
       "        text-align: right;\n",
       "    }\n",
       "</style>\n",
       "<table border=\"1\" class=\"dataframe\">\n",
       "  <thead>\n",
       "    <tr style=\"text-align: right;\">\n",
       "      <th></th>\n",
       "      <th>label</th>\n",
       "      <th>latitude</th>\n",
       "      <th>longitude</th>\n",
       "      <th>maxTemp</th>\n",
       "      <th>minTemp</th>\n",
       "      <th>avgPrcp</th>\n",
       "      <th>cluster_label</th>\n",
       "      <th>one_PRCP</th>\n",
       "      <th>two_PRCP</th>\n",
       "      <th>three_PRCP</th>\n",
       "      <th>class_label</th>\n",
       "    </tr>\n",
       "  </thead>\n",
       "  <tbody>\n",
       "    <tr>\n",
       "      <th>count</th>\n",
       "      <td>35104.000000</td>\n",
       "      <td>35104.000000</td>\n",
       "      <td>35104.000000</td>\n",
       "      <td>35104.000000</td>\n",
       "      <td>35104.000000</td>\n",
       "      <td>35104.000000</td>\n",
       "      <td>35104.000000</td>\n",
       "      <td>35104.000000</td>\n",
       "      <td>35104.000000</td>\n",
       "      <td>35104.000000</td>\n",
       "      <td>35104.0</td>\n",
       "    </tr>\n",
       "    <tr>\n",
       "      <th>mean</th>\n",
       "      <td>28.443910</td>\n",
       "      <td>52.324413</td>\n",
       "      <td>6.593767</td>\n",
       "      <td>256.521359</td>\n",
       "      <td>-32.893669</td>\n",
       "      <td>25.030767</td>\n",
       "      <td>1.208637</td>\n",
       "      <td>33.567542</td>\n",
       "      <td>29.564551</td>\n",
       "      <td>28.463110</td>\n",
       "      <td>1.0</td>\n",
       "    </tr>\n",
       "    <tr>\n",
       "      <th>std</th>\n",
       "      <td>29.868983</td>\n",
       "      <td>6.637167</td>\n",
       "      <td>6.702120</td>\n",
       "      <td>44.322090</td>\n",
       "      <td>37.852653</td>\n",
       "      <td>14.060832</td>\n",
       "      <td>0.667747</td>\n",
       "      <td>64.685712</td>\n",
       "      <td>60.373006</td>\n",
       "      <td>60.756454</td>\n",
       "      <td>0.0</td>\n",
       "    </tr>\n",
       "    <tr>\n",
       "      <th>min</th>\n",
       "      <td>1.000000</td>\n",
       "      <td>37.844200</td>\n",
       "      <td>-7.903100</td>\n",
       "      <td>91.562500</td>\n",
       "      <td>-143.104167</td>\n",
       "      <td>7.823521</td>\n",
       "      <td>0.000000</td>\n",
       "      <td>0.000000</td>\n",
       "      <td>0.000000</td>\n",
       "      <td>0.000000</td>\n",
       "      <td>1.0</td>\n",
       "    </tr>\n",
       "    <tr>\n",
       "      <th>25%</th>\n",
       "      <td>5.000000</td>\n",
       "      <td>48.784199</td>\n",
       "      <td>0.856400</td>\n",
       "      <td>213.063830</td>\n",
       "      <td>-45.468750</td>\n",
       "      <td>15.904174</td>\n",
       "      <td>1.000000</td>\n",
       "      <td>0.000000</td>\n",
       "      <td>0.000000</td>\n",
       "      <td>0.000000</td>\n",
       "      <td>1.0</td>\n",
       "    </tr>\n",
       "    <tr>\n",
       "      <th>50%</th>\n",
       "      <td>17.000000</td>\n",
       "      <td>51.310299</td>\n",
       "      <td>8.240000</td>\n",
       "      <td>273.894737</td>\n",
       "      <td>-29.163462</td>\n",
       "      <td>19.094061</td>\n",
       "      <td>1.000000</td>\n",
       "      <td>7.000000</td>\n",
       "      <td>4.000000</td>\n",
       "      <td>2.000000</td>\n",
       "      <td>1.0</td>\n",
       "    </tr>\n",
       "    <tr>\n",
       "      <th>75%</th>\n",
       "      <td>44.000000</td>\n",
       "      <td>54.669998</td>\n",
       "      <td>12.131700</td>\n",
       "      <td>283.029126</td>\n",
       "      <td>-12.684211</td>\n",
       "      <td>28.174298</td>\n",
       "      <td>2.000000</td>\n",
       "      <td>40.000000</td>\n",
       "      <td>33.000000</td>\n",
       "      <td>30.000000</td>\n",
       "      <td>1.0</td>\n",
       "    </tr>\n",
       "    <tr>\n",
       "      <th>max</th>\n",
       "      <td>120.000000</td>\n",
       "      <td>69.977501</td>\n",
       "      <td>23.358101</td>\n",
       "      <td>382.606838</td>\n",
       "      <td>50.807018</td>\n",
       "      <td>73.952735</td>\n",
       "      <td>2.000000</td>\n",
       "      <td>1584.000000</td>\n",
       "      <td>1584.000000</td>\n",
       "      <td>1234.000000</td>\n",
       "      <td>1.0</td>\n",
       "    </tr>\n",
       "  </tbody>\n",
       "</table>\n",
       "</div>"
      ],
      "text/plain": [
       "              label      latitude     longitude       maxTemp       minTemp  \\\n",
       "count  35104.000000  35104.000000  35104.000000  35104.000000  35104.000000   \n",
       "mean      28.443910     52.324413      6.593767    256.521359    -32.893669   \n",
       "std       29.868983      6.637167      6.702120     44.322090     37.852653   \n",
       "min        1.000000     37.844200     -7.903100     91.562500   -143.104167   \n",
       "25%        5.000000     48.784199      0.856400    213.063830    -45.468750   \n",
       "50%       17.000000     51.310299      8.240000    273.894737    -29.163462   \n",
       "75%       44.000000     54.669998     12.131700    283.029126    -12.684211   \n",
       "max      120.000000     69.977501     23.358101    382.606838     50.807018   \n",
       "\n",
       "            avgPrcp  cluster_label      one_PRCP      two_PRCP    three_PRCP  \\\n",
       "count  35104.000000   35104.000000  35104.000000  35104.000000  35104.000000   \n",
       "mean      25.030767       1.208637     33.567542     29.564551     28.463110   \n",
       "std       14.060832       0.667747     64.685712     60.373006     60.756454   \n",
       "min        7.823521       0.000000      0.000000      0.000000      0.000000   \n",
       "25%       15.904174       1.000000      0.000000      0.000000      0.000000   \n",
       "50%       19.094061       1.000000      7.000000      4.000000      2.000000   \n",
       "75%       28.174298       2.000000     40.000000     33.000000     30.000000   \n",
       "max       73.952735       2.000000   1584.000000   1584.000000   1234.000000   \n",
       "\n",
       "       class_label  \n",
       "count      35104.0  \n",
       "mean           1.0  \n",
       "std            0.0  \n",
       "min            1.0  \n",
       "25%            1.0  \n",
       "50%            1.0  \n",
       "75%            1.0  \n",
       "max            1.0  "
      ]
     },
     "execution_count": 22,
     "metadata": {},
     "output_type": "execute_result"
    }
   ],
   "source": [
    "not_extreme_df.describe()"
   ]
  },
  {
   "cell_type": "code",
   "execution_count": 23,
   "id": "1ea02e62",
   "metadata": {
    "scrolled": true
   },
   "outputs": [
    {
     "data": {
      "text/html": [
       "<div>\n",
       "<style scoped>\n",
       "    .dataframe tbody tr th:only-of-type {\n",
       "        vertical-align: middle;\n",
       "    }\n",
       "\n",
       "    .dataframe tbody tr th {\n",
       "        vertical-align: top;\n",
       "    }\n",
       "\n",
       "    .dataframe thead th {\n",
       "        text-align: right;\n",
       "    }\n",
       "</style>\n",
       "<table border=\"1\" class=\"dataframe\">\n",
       "  <thead>\n",
       "    <tr style=\"text-align: right;\">\n",
       "      <th></th>\n",
       "      <th>label</th>\n",
       "      <th>latitude</th>\n",
       "      <th>longitude</th>\n",
       "      <th>maxTemp</th>\n",
       "      <th>minTemp</th>\n",
       "      <th>avgPrcp</th>\n",
       "      <th>cluster_label</th>\n",
       "      <th>one_PRCP</th>\n",
       "      <th>two_PRCP</th>\n",
       "      <th>three_PRCP</th>\n",
       "      <th>class_label</th>\n",
       "    </tr>\n",
       "  </thead>\n",
       "  <tbody>\n",
       "    <tr>\n",
       "      <th>count</th>\n",
       "      <td>47064.0</td>\n",
       "      <td>47064.000000</td>\n",
       "      <td>47064.000000</td>\n",
       "      <td>47064.000000</td>\n",
       "      <td>47064.000000</td>\n",
       "      <td>47064.000000</td>\n",
       "      <td>47064.000000</td>\n",
       "      <td>47064.000000</td>\n",
       "      <td>47064.000000</td>\n",
       "      <td>47064.000000</td>\n",
       "      <td>47064.0</td>\n",
       "    </tr>\n",
       "    <tr>\n",
       "      <th>mean</th>\n",
       "      <td>0.0</td>\n",
       "      <td>48.050194</td>\n",
       "      <td>5.442875</td>\n",
       "      <td>265.056113</td>\n",
       "      <td>-28.192422</td>\n",
       "      <td>21.367718</td>\n",
       "      <td>0.928565</td>\n",
       "      <td>9.748215</td>\n",
       "      <td>15.378612</td>\n",
       "      <td>17.213624</td>\n",
       "      <td>0.0</td>\n",
       "    </tr>\n",
       "    <tr>\n",
       "      <th>std</th>\n",
       "      <td>0.0</td>\n",
       "      <td>5.582343</td>\n",
       "      <td>6.271726</td>\n",
       "      <td>45.996140</td>\n",
       "      <td>40.322182</td>\n",
       "      <td>9.077940</td>\n",
       "      <td>0.588254</td>\n",
       "      <td>35.175853</td>\n",
       "      <td>47.811215</td>\n",
       "      <td>50.755128</td>\n",
       "      <td>0.0</td>\n",
       "    </tr>\n",
       "    <tr>\n",
       "      <th>min</th>\n",
       "      <td>0.0</td>\n",
       "      <td>36.015301</td>\n",
       "      <td>-6.216000</td>\n",
       "      <td>112.277778</td>\n",
       "      <td>-101.981481</td>\n",
       "      <td>10.327078</td>\n",
       "      <td>0.000000</td>\n",
       "      <td>0.000000</td>\n",
       "      <td>0.000000</td>\n",
       "      <td>0.000000</td>\n",
       "      <td>0.0</td>\n",
       "    </tr>\n",
       "    <tr>\n",
       "      <th>25%</th>\n",
       "      <td>0.0</td>\n",
       "      <td>42.770000</td>\n",
       "      <td>0.884200</td>\n",
       "      <td>249.680000</td>\n",
       "      <td>-52.680000</td>\n",
       "      <td>14.379455</td>\n",
       "      <td>1.000000</td>\n",
       "      <td>0.000000</td>\n",
       "      <td>0.000000</td>\n",
       "      <td>0.000000</td>\n",
       "      <td>0.0</td>\n",
       "    </tr>\n",
       "    <tr>\n",
       "      <th>50%</th>\n",
       "      <td>0.0</td>\n",
       "      <td>50.291698</td>\n",
       "      <td>8.410000</td>\n",
       "      <td>270.275510</td>\n",
       "      <td>-31.307692</td>\n",
       "      <td>19.616227</td>\n",
       "      <td>1.000000</td>\n",
       "      <td>0.000000</td>\n",
       "      <td>0.000000</td>\n",
       "      <td>0.000000</td>\n",
       "      <td>0.0</td>\n",
       "    </tr>\n",
       "    <tr>\n",
       "      <th>75%</th>\n",
       "      <td>0.0</td>\n",
       "      <td>51.867802</td>\n",
       "      <td>10.363300</td>\n",
       "      <td>287.190000</td>\n",
       "      <td>-14.231579</td>\n",
       "      <td>24.551661</td>\n",
       "      <td>1.000000</td>\n",
       "      <td>2.000000</td>\n",
       "      <td>6.000000</td>\n",
       "      <td>9.000000</td>\n",
       "      <td>0.0</td>\n",
       "    </tr>\n",
       "    <tr>\n",
       "      <th>max</th>\n",
       "      <td>0.0</td>\n",
       "      <td>59.855801</td>\n",
       "      <td>13.561700</td>\n",
       "      <td>353.091743</td>\n",
       "      <td>89.491071</td>\n",
       "      <td>61.363532</td>\n",
       "      <td>2.000000</td>\n",
       "      <td>968.000000</td>\n",
       "      <td>1103.000000</td>\n",
       "      <td>1310.000000</td>\n",
       "      <td>0.0</td>\n",
       "    </tr>\n",
       "  </tbody>\n",
       "</table>\n",
       "</div>"
      ],
      "text/plain": [
       "         label      latitude     longitude       maxTemp       minTemp  \\\n",
       "count  47064.0  47064.000000  47064.000000  47064.000000  47064.000000   \n",
       "mean       0.0     48.050194      5.442875    265.056113    -28.192422   \n",
       "std        0.0      5.582343      6.271726     45.996140     40.322182   \n",
       "min        0.0     36.015301     -6.216000    112.277778   -101.981481   \n",
       "25%        0.0     42.770000      0.884200    249.680000    -52.680000   \n",
       "50%        0.0     50.291698      8.410000    270.275510    -31.307692   \n",
       "75%        0.0     51.867802     10.363300    287.190000    -14.231579   \n",
       "max        0.0     59.855801     13.561700    353.091743     89.491071   \n",
       "\n",
       "            avgPrcp  cluster_label      one_PRCP      two_PRCP    three_PRCP  \\\n",
       "count  47064.000000   47064.000000  47064.000000  47064.000000  47064.000000   \n",
       "mean      21.367718       0.928565      9.748215     15.378612     17.213624   \n",
       "std        9.077940       0.588254     35.175853     47.811215     50.755128   \n",
       "min       10.327078       0.000000      0.000000      0.000000      0.000000   \n",
       "25%       14.379455       1.000000      0.000000      0.000000      0.000000   \n",
       "50%       19.616227       1.000000      0.000000      0.000000      0.000000   \n",
       "75%       24.551661       1.000000      2.000000      6.000000      9.000000   \n",
       "max       61.363532       2.000000    968.000000   1103.000000   1310.000000   \n",
       "\n",
       "       class_label  \n",
       "count      47064.0  \n",
       "mean           0.0  \n",
       "std            0.0  \n",
       "min            0.0  \n",
       "25%            0.0  \n",
       "50%            0.0  \n",
       "75%            0.0  \n",
       "max            0.0  "
      ]
     },
     "execution_count": 23,
     "metadata": {},
     "output_type": "execute_result"
    }
   ],
   "source": [
    "no_rain_df.describe()"
   ]
  },
  {
   "cell_type": "markdown",
   "id": "adc32ddf",
   "metadata": {},
   "source": [
    "Therefore, we will now explore the lags"
   ]
  },
  {
   "cell_type": "markdown",
   "id": "dd511edc",
   "metadata": {},
   "source": [
    "The distribution of each of the lags is similar; as expected."
   ]
  },
  {
   "cell_type": "code",
   "execution_count": 24,
   "id": "89df62a8",
   "metadata": {},
   "outputs": [],
   "source": [
    "df_list = [only_extreme_df, not_extreme_df, no_rain_df]\n",
    "df_names = [\"extreme\", \"normal\", \"no rain\"]\n",
    "prcp_list = [\"one_PRCP\", \"two_PRCP\", \"three_PRCP\"]"
   ]
  },
  {
   "cell_type": "code",
   "execution_count": 25,
   "id": "eaddc6f0",
   "metadata": {
    "scrolled": false
   },
   "outputs": [
    {
     "name": "stdout",
     "output_type": "stream",
     "text": [
      "one_PRCP\n"
     ]
    },
    {
     "data": {
      "image/png": "[encoded data removed]",
      "text/plain": [
       "<Figure size 2000x800 with 3 Axes>"
      ]
     },
     "metadata": {},
     "output_type": "display_data"
    },
    {
     "name": "stdout",
     "output_type": "stream",
     "text": [
      "two_PRCP\n"
     ]
    },
    {
     "data": {
      "image/png": "[encoded data removed]",
      "text/plain": [
       "<Figure size 2000x800 with 3 Axes>"
      ]
     },
     "metadata": {},
     "output_type": "display_data"
    },
    {
     "name": "stdout",
     "output_type": "stream",
     "text": [
      "three_PRCP\n"
     ]
    },
    {
     "data": {
      "image/png": "[encoded data removed]",
      "text/plain": [
       "<Figure size 2000x800 with 3 Axes>"
      ]
     },
     "metadata": {},
     "output_type": "display_data"
    }
   ],
   "source": [
    "for lag in prcp_list:\n",
    "    print(lag)\n",
    "    fig, axis = plt.subplots(1,3, figsize=(20,8))\n",
    "    for index, dataframe in enumerate(df_list):\n",
    "        sns.histplot(data=dataframe, x=\"one_PRCP\", bins = 15, ax = axis[index])\n",
    "        axis[index].set_title(df_names[index])\n",
    "    plt.show()"
   ]
  },
  {
   "cell_type": "markdown",
   "id": "7c629d1f",
   "metadata": {},
   "source": [
    "Let us examine correlation between lags and label to see what would indicate the lable and extreme rainfall. Because the label in the last dataset is always zero, the correlation is undefined."
   ]
  },
  {
   "cell_type": "code",
   "execution_count": 26,
   "id": "f3cb0c2a",
   "metadata": {},
   "outputs": [
    {
     "name": "stdout",
     "output_type": "stream",
     "text": [
      "one_PRCP\n",
      "0.16628323611952264\n",
      "0.1492121749905781\n",
      "nan\n",
      "two_PRCP\n",
      "0.01958249762013444\n",
      "0.09668808171960531\n",
      "nan\n",
      "three_PRCP\n",
      "-0.015051752281609987\n",
      "0.08178267684444256\n",
      "nan\n"
     ]
    }
   ],
   "source": [
    "for lag in prcp_list:\n",
    "    print(lag)\n",
    "    for index, dataframe in enumerate(df_list):\n",
    "        print(dataframe[lag].corr(dataframe[\"label\"]))"
   ]
  },
  {
   "cell_type": "markdown",
   "id": "aec992cc",
   "metadata": {},
   "source": [
    "Let us try to examine the patterns of the lags for each of the different categories. We will do so through clustering."
   ]
  },
  {
   "cell_type": "code",
   "execution_count": 27,
   "id": "78356fb5",
   "metadata": {},
   "outputs": [
    {
     "data": {
      "text/html": [
       "<div>\n",
       "<style scoped>\n",
       "    .dataframe tbody tr th:only-of-type {\n",
       "        vertical-align: middle;\n",
       "    }\n",
       "\n",
       "    .dataframe tbody tr th {\n",
       "        vertical-align: top;\n",
       "    }\n",
       "\n",
       "    .dataframe thead th {\n",
       "        text-align: right;\n",
       "    }\n",
       "</style>\n",
       "<table border=\"1\" class=\"dataframe\">\n",
       "  <thead>\n",
       "    <tr style=\"text-align: right;\">\n",
       "      <th></th>\n",
       "      <th>StationId</th>\n",
       "      <th>Date</th>\n",
       "      <th>label</th>\n",
       "      <th>latitude</th>\n",
       "      <th>longitude</th>\n",
       "      <th>maxTemp</th>\n",
       "      <th>minTemp</th>\n",
       "      <th>avgPrcp</th>\n",
       "      <th>cluster_label</th>\n",
       "      <th>one_PRCP</th>\n",
       "      <th>two_PRCP</th>\n",
       "      <th>three_PRCP</th>\n",
       "      <th>class_label</th>\n",
       "    </tr>\n",
       "  </thead>\n",
       "  <tbody>\n",
       "    <tr>\n",
       "      <th>0</th>\n",
       "      <td>UKE00105926</td>\n",
       "      <td>2016-02-17</td>\n",
       "      <td>128</td>\n",
       "      <td>50.783901</td>\n",
       "      <td>0.9839</td>\n",
       "      <td>202.898876</td>\n",
       "      <td>15.786517</td>\n",
       "      <td>17.048203</td>\n",
       "      <td>2</td>\n",
       "      <td>0</td>\n",
       "      <td>0</td>\n",
       "      <td>0</td>\n",
       "      <td>2</td>\n",
       "    </tr>\n",
       "    <tr>\n",
       "      <th>1</th>\n",
       "      <td>UKE00105926</td>\n",
       "      <td>2016-03-08</td>\n",
       "      <td>150</td>\n",
       "      <td>50.783901</td>\n",
       "      <td>0.9839</td>\n",
       "      <td>202.898876</td>\n",
       "      <td>15.786517</td>\n",
       "      <td>17.048203</td>\n",
       "      <td>2</td>\n",
       "      <td>0</td>\n",
       "      <td>10</td>\n",
       "      <td>0</td>\n",
       "      <td>2</td>\n",
       "    </tr>\n",
       "    <tr>\n",
       "      <th>2</th>\n",
       "      <td>UKE00105926</td>\n",
       "      <td>2016-06-16</td>\n",
       "      <td>125</td>\n",
       "      <td>50.783901</td>\n",
       "      <td>0.9839</td>\n",
       "      <td>202.898876</td>\n",
       "      <td>15.786517</td>\n",
       "      <td>17.048203</td>\n",
       "      <td>2</td>\n",
       "      <td>26</td>\n",
       "      <td>1</td>\n",
       "      <td>5</td>\n",
       "      <td>2</td>\n",
       "    </tr>\n",
       "    <tr>\n",
       "      <th>3</th>\n",
       "      <td>UKE00105926</td>\n",
       "      <td>2016-06-17</td>\n",
       "      <td>139</td>\n",
       "      <td>50.783901</td>\n",
       "      <td>0.9839</td>\n",
       "      <td>202.898876</td>\n",
       "      <td>15.786517</td>\n",
       "      <td>17.048203</td>\n",
       "      <td>2</td>\n",
       "      <td>125</td>\n",
       "      <td>26</td>\n",
       "      <td>1</td>\n",
       "      <td>2</td>\n",
       "    </tr>\n",
       "    <tr>\n",
       "      <th>4</th>\n",
       "      <td>UKE00105926</td>\n",
       "      <td>2016-06-22</td>\n",
       "      <td>328</td>\n",
       "      <td>50.783901</td>\n",
       "      <td>0.9839</td>\n",
       "      <td>202.898876</td>\n",
       "      <td>15.786517</td>\n",
       "      <td>17.048203</td>\n",
       "      <td>2</td>\n",
       "      <td>1</td>\n",
       "      <td>32</td>\n",
       "      <td>105</td>\n",
       "      <td>2</td>\n",
       "    </tr>\n",
       "  </tbody>\n",
       "</table>\n",
       "</div>"
      ],
      "text/plain": [
       "     StationId        Date  label   latitude  longitude     maxTemp  \\\n",
       "0  UKE00105926  2016-02-17    128  50.783901     0.9839  202.898876   \n",
       "1  UKE00105926  2016-03-08    150  50.783901     0.9839  202.898876   \n",
       "2  UKE00105926  2016-06-16    125  50.783901     0.9839  202.898876   \n",
       "3  UKE00105926  2016-06-17    139  50.783901     0.9839  202.898876   \n",
       "4  UKE00105926  2016-06-22    328  50.783901     0.9839  202.898876   \n",
       "\n",
       "     minTemp    avgPrcp  cluster_label  one_PRCP  two_PRCP  three_PRCP  \\\n",
       "0  15.786517  17.048203              2         0         0           0   \n",
       "1  15.786517  17.048203              2         0        10           0   \n",
       "2  15.786517  17.048203              2        26         1           5   \n",
       "3  15.786517  17.048203              2       125        26           1   \n",
       "4  15.786517  17.048203              2         1        32         105   \n",
       "\n",
       "   class_label  \n",
       "0            2  \n",
       "1            2  \n",
       "2            2  \n",
       "3            2  \n",
       "4            2  "
      ]
     },
     "execution_count": 27,
     "metadata": {},
     "output_type": "execute_result"
    }
   ],
   "source": [
    "all_df = pd.concat(df_list, axis=0)\n",
    "all_df.head()"
   ]
  },
  {
   "cell_type": "markdown",
   "id": "31bd8f22",
   "metadata": {},
   "source": [
    "Interestingly, aside from the cluster size of 2. There are no cluster centers that are strictly high. There is always a cluster that is low and there usually is a cluster that is very high at one_PRCP (lag of 1) and then drops off. And a cluster that has a low one_PRCP nad then jumps"
   ]
  },
  {
   "cell_type": "code",
   "execution_count": 28,
   "id": "231fad45",
   "metadata": {
    "scrolled": true
   },
   "outputs": [
    {
     "name": "stdout",
     "output_type": "stream",
     "text": [
      "cluster size: 2\n",
      "CENTROIDS --------------------------------------\n",
      "[[ 98.81651754 114.04278515 106.71809112]\n",
      " [ 11.79813775  10.36722911  11.54420874]]\n",
      "The average silhouette_score is : 0.703274815306107\n",
      "cluster size: 3\n",
      "CENTROIDS --------------------------------------\n",
      "[[135.2388619  123.60083276  33.76960444]\n",
      " [ 10.20701344  10.3035659   10.571271  ]\n",
      " [ 29.59924027  57.11989554 210.39814815]]\n",
      "The average silhouette_score is : 0.7025651883519228\n",
      "cluster size: 4\n",
      "CENTROIDS --------------------------------------\n",
      "[[ 10.0302355    9.71090788  10.3796899 ]\n",
      " [204.75219904  42.25157075  27.8421714 ]\n",
      " [ 45.32861328 201.39501953  45.0078125 ]\n",
      " [ 29.14990234  46.26025391 209.09179688]]\n",
      "The average silhouette_score is : 0.7115833636131444\n",
      "cluster size: 5\n",
      "CENTROIDS --------------------------------------\n",
      "[[ 21.90025714  31.86398701 115.88645284]\n",
      " [207.99347088  42.54087229  26.35100548]\n",
      " [ 46.57630794 209.33640553  41.51070751]\n",
      " [ 51.71769815  98.06840391 380.70141151]\n",
      " [  9.72670594   9.0979237    6.49867014]]\n",
      "The average silhouette_score is : 0.6426672258760403\n",
      "cluster size: 6\n",
      "CENTROIDS --------------------------------------\n",
      "[[ 42.91012839 211.94265335  41.7746077 ]\n",
      " [ 18.82877406  32.06585613 119.79447098]\n",
      " [ 48.46864686  95.77007701 380.9889989 ]\n",
      " [409.76793249  97.21518987  46.78762307]\n",
      " [  6.49994044   8.5424496    6.49434204]\n",
      " [122.70688605  30.89975625  19.12995125]]\n",
      "The average silhouette_score is : 0.6499351558065063\n",
      "cluster size: 7\n",
      "CENTROIDS --------------------------------------\n",
      "[[  6.50069575   5.88725783   6.5944921 ]\n",
      " [ 27.28122901 120.58109469  26.55204835]\n",
      " [ 19.47120591  27.57653815 128.15947498]\n",
      " [129.65758556  27.13281117  19.87195641]\n",
      " [414.41255605  82.62780269  43.11958146]\n",
      " [ 78.95619658 360.4732906   80.16346154]\n",
      " [ 46.73141487  88.52517986 388.82853717]]\n",
      "The average silhouette_score is : 0.6589341692639363\n"
     ]
    }
   ],
   "source": [
    "cluster_sizes = [2, 3, 4, 5, 6, 7]\n",
    "for k in cluster_sizes:\n",
    "    print(\"cluster size:\", str(k))\n",
    "    kmeans = KMeans(n_clusters=k, random_state=0).fit(all_df[[\"one_PRCP\", \"two_PRCP\", \"three_PRCP\"]])\n",
    "    print(\"CENTROIDS --------------------------------------\")\n",
    "    print(kmeans.cluster_centers_)\n",
    "    prediction = kmeans.predict(all_df[[\"one_PRCP\", \"two_PRCP\", \"three_PRCP\"]])\n",
    "    silhouette_avg = silhouette_score(all_df[[\"one_PRCP\", \"two_PRCP\", \"three_PRCP\"]], prediction)\n",
    "    print(\"The average silhouette_score is :\", silhouette_avg)"
   ]
  },
  {
   "cell_type": "markdown",
   "id": "7f35c936",
   "metadata": {},
   "source": [
    "We can see that the best silhoutte score is reached at cluster size = 4. And afterwards, decreases significantly. Therefore, we will continue our examination on k = 4"
   ]
  },
  {
   "cell_type": "markdown",
   "id": "23aecbcd",
   "metadata": {},
   "source": [
    "Now we will assign our sample data the clusters and try to understand the new clusterings relationship to the target variable:"
   ]
  },
  {
   "cell_type": "code",
   "execution_count": 29,
   "id": "eb3ed9b7",
   "metadata": {},
   "outputs": [
    {
     "data": {
      "text/plain": [
       "array([[ 10.0302355 ,   9.71090788,  10.3796899 ],\n",
       "       [204.75219904,  42.25157075,  27.8421714 ],\n",
       "       [ 45.32861328, 201.39501953,  45.0078125 ],\n",
       "       [ 29.14990234,  46.26025391, 209.09179688]])"
      ]
     },
     "execution_count": 29,
     "metadata": {},
     "output_type": "execute_result"
    }
   ],
   "source": [
    "kmeans_stats = KMeans(n_clusters=4, random_state=0).fit(all_df[[\"one_PRCP\", \"two_PRCP\", \"three_PRCP\"]])\n",
    "all_df[\"extreme_cluster\"] = kmeans.predict(all_df[[\"one_PRCP\", \"two_PRCP\", \"three_PRCP\"]])\n",
    "kmeans_stats.cluster_centers_"
   ]
  },
  {
   "cell_type": "markdown",
   "id": "d61a4c71",
   "metadata": {},
   "source": [
    "Let us check if there is a connection between the pattern label based on the lags and the classification label"
   ]
  },
  {
   "cell_type": "code",
   "execution_count": 39,
   "id": "2eb2d18a",
   "metadata": {
    "scrolled": true
   },
   "outputs": [
    {
     "name": "stdout",
     "output_type": "stream",
     "text": [
      "cluster: 0\n",
      "   category (#)  category (%)\n",
      "0         39810      0.608790\n",
      "1         23597      0.360855\n",
      "2          1985      0.030355\n",
      "cluster: 1\n",
      "   category (#)  category (%)\n",
      "1          3267      0.548062\n",
      "0          2330      0.390874\n",
      "2           364      0.061064\n",
      "cluster: 2\n",
      "   category (#)  category (%)\n",
      "1          3127      0.513212\n",
      "0          2673      0.438700\n",
      "2           293      0.048088\n",
      "cluster: 3\n",
      "   category (#)  category (%)\n",
      "1          3813      0.649353\n",
      "0          1382      0.235354\n",
      "2           677      0.115293\n"
     ]
    }
   ],
   "source": [
    "for i in range(4):\n",
    "    print(\"cluster: \" + str(i))\n",
    "    ext_class_rel = pd.concat([all_df[all_df[\"extreme_cluster\"] == i][\"class_label\"].value_counts(), \n",
    "                     all_df[all_df[\"extreme_cluster\"] == i][\"class_label\"].value_counts(normalize=True)], axis=1)\n",
    "    ext_class_rel.columns = [\"category (#)\", \"category (%)\"]\n",
    "    print(ext_class_rel)"
   ]
  },
  {
   "cell_type": "markdown",
   "id": "28b10071",
   "metadata": {},
   "source": [
    "We can conclude that clusters are skewed towards the first cluster, which is numerically the largest. However, cluster 3 is much more likely to be intense rain. Therefore, this is weak indicator and will be used in the model."
   ]
  },
  {
   "cell_type": "markdown",
   "id": "6cf5d614",
   "metadata": {},
   "source": [
    "Let us look for a connection between the original clustering based on average percipitation, maximum temperature and minimum temperature to category"
   ]
  },
  {
   "cell_type": "code",
   "execution_count": 40,
   "id": "cde3adb3",
   "metadata": {
    "scrolled": false
   },
   "outputs": [
    {
     "name": "stdout",
     "output_type": "stream",
     "text": [
      "original cluster: 0\n",
      "   category (#)  category (%)\n",
      "0          9944      0.653093\n",
      "1          4928      0.323657\n",
      "2           354      0.023250\n",
      "original cluster: 1\n",
      "   category (#)  category (%)\n",
      "0         30538      0.599266\n",
      "1         17924      0.351734\n",
      "2          2497      0.049000\n",
      "original cluster: 2\n",
      "   category (#)  category (%)\n",
      "1         12252      0.625900\n",
      "0          6582      0.336245\n",
      "2           741      0.037854\n"
     ]
    }
   ],
   "source": [
    "for i in range(3):\n",
    "    print(\"original cluster: \" + str(i))\n",
    "    ext_class_rel = pd.concat([all_df[all_df[\"cluster_label\"] == i][\"class_label\"].value_counts(), \n",
    "                     all_df[all_df[\"cluster_label\"] == i][\"class_label\"].value_counts(normalize=True)], axis=1)\n",
    "    ext_class_rel.columns = [\"category (#)\", \"category (%)\"]\n",
    "    print(ext_class_rel)"
   ]
  },
  {
   "cell_type": "markdown",
   "id": "fa19ce42",
   "metadata": {},
   "source": [
    "The proportions are essentially equal, therefore this is not indicative of anything and will be ignored."
   ]
  },
  {
   "cell_type": "markdown",
   "id": "5df29b59",
   "metadata": {},
   "source": [
    "Let us examine the parameter of time: via month and year"
   ]
  },
  {
   "cell_type": "code",
   "execution_count": 52,
   "id": "ce31c8cd",
   "metadata": {},
   "outputs": [
    {
     "data": {
      "text/html": [
       "<div>\n",
       "<style scoped>\n",
       "    .dataframe tbody tr th:only-of-type {\n",
       "        vertical-align: middle;\n",
       "    }\n",
       "\n",
       "    .dataframe tbody tr th {\n",
       "        vertical-align: top;\n",
       "    }\n",
       "\n",
       "    .dataframe thead th {\n",
       "        text-align: right;\n",
       "    }\n",
       "</style>\n",
       "<table border=\"1\" class=\"dataframe\">\n",
       "  <thead>\n",
       "    <tr style=\"text-align: right;\">\n",
       "      <th></th>\n",
       "      <th>StationId</th>\n",
       "      <th>Date</th>\n",
       "      <th>label</th>\n",
       "      <th>latitude</th>\n",
       "      <th>longitude</th>\n",
       "      <th>maxTemp</th>\n",
       "      <th>minTemp</th>\n",
       "      <th>avgPrcp</th>\n",
       "      <th>cluster_label</th>\n",
       "      <th>one_PRCP</th>\n",
       "      <th>two_PRCP</th>\n",
       "      <th>three_PRCP</th>\n",
       "      <th>class_label</th>\n",
       "      <th>extreme_cluster</th>\n",
       "      <th>month</th>\n",
       "      <th>year</th>\n",
       "    </tr>\n",
       "  </thead>\n",
       "  <tbody>\n",
       "    <tr>\n",
       "      <th>0</th>\n",
       "      <td>UKE00105926</td>\n",
       "      <td>2016-02-17</td>\n",
       "      <td>128</td>\n",
       "      <td>50.783901</td>\n",
       "      <td>0.9839</td>\n",
       "      <td>202.898876</td>\n",
       "      <td>15.786517</td>\n",
       "      <td>17.048203</td>\n",
       "      <td>2</td>\n",
       "      <td>0</td>\n",
       "      <td>0</td>\n",
       "      <td>0</td>\n",
       "      <td>2</td>\n",
       "      <td>0</td>\n",
       "      <td>2</td>\n",
       "      <td>2016</td>\n",
       "    </tr>\n",
       "    <tr>\n",
       "      <th>1</th>\n",
       "      <td>UKE00105926</td>\n",
       "      <td>2016-03-08</td>\n",
       "      <td>150</td>\n",
       "      <td>50.783901</td>\n",
       "      <td>0.9839</td>\n",
       "      <td>202.898876</td>\n",
       "      <td>15.786517</td>\n",
       "      <td>17.048203</td>\n",
       "      <td>2</td>\n",
       "      <td>0</td>\n",
       "      <td>10</td>\n",
       "      <td>0</td>\n",
       "      <td>2</td>\n",
       "      <td>0</td>\n",
       "      <td>3</td>\n",
       "      <td>2016</td>\n",
       "    </tr>\n",
       "    <tr>\n",
       "      <th>2</th>\n",
       "      <td>UKE00105926</td>\n",
       "      <td>2016-06-16</td>\n",
       "      <td>125</td>\n",
       "      <td>50.783901</td>\n",
       "      <td>0.9839</td>\n",
       "      <td>202.898876</td>\n",
       "      <td>15.786517</td>\n",
       "      <td>17.048203</td>\n",
       "      <td>2</td>\n",
       "      <td>26</td>\n",
       "      <td>1</td>\n",
       "      <td>5</td>\n",
       "      <td>2</td>\n",
       "      <td>0</td>\n",
       "      <td>6</td>\n",
       "      <td>2016</td>\n",
       "    </tr>\n",
       "    <tr>\n",
       "      <th>3</th>\n",
       "      <td>UKE00105926</td>\n",
       "      <td>2016-06-17</td>\n",
       "      <td>139</td>\n",
       "      <td>50.783901</td>\n",
       "      <td>0.9839</td>\n",
       "      <td>202.898876</td>\n",
       "      <td>15.786517</td>\n",
       "      <td>17.048203</td>\n",
       "      <td>2</td>\n",
       "      <td>125</td>\n",
       "      <td>26</td>\n",
       "      <td>1</td>\n",
       "      <td>2</td>\n",
       "      <td>3</td>\n",
       "      <td>6</td>\n",
       "      <td>2016</td>\n",
       "    </tr>\n",
       "    <tr>\n",
       "      <th>4</th>\n",
       "      <td>UKE00105926</td>\n",
       "      <td>2016-06-22</td>\n",
       "      <td>328</td>\n",
       "      <td>50.783901</td>\n",
       "      <td>0.9839</td>\n",
       "      <td>202.898876</td>\n",
       "      <td>15.786517</td>\n",
       "      <td>17.048203</td>\n",
       "      <td>2</td>\n",
       "      <td>1</td>\n",
       "      <td>32</td>\n",
       "      <td>105</td>\n",
       "      <td>2</td>\n",
       "      <td>2</td>\n",
       "      <td>6</td>\n",
       "      <td>2016</td>\n",
       "    </tr>\n",
       "  </tbody>\n",
       "</table>\n",
       "</div>"
      ],
      "text/plain": [
       "     StationId        Date  label   latitude  longitude     maxTemp  \\\n",
       "0  UKE00105926  2016-02-17    128  50.783901     0.9839  202.898876   \n",
       "1  UKE00105926  2016-03-08    150  50.783901     0.9839  202.898876   \n",
       "2  UKE00105926  2016-06-16    125  50.783901     0.9839  202.898876   \n",
       "3  UKE00105926  2016-06-17    139  50.783901     0.9839  202.898876   \n",
       "4  UKE00105926  2016-06-22    328  50.783901     0.9839  202.898876   \n",
       "\n",
       "     minTemp    avgPrcp  cluster_label  one_PRCP  two_PRCP  three_PRCP  \\\n",
       "0  15.786517  17.048203              2         0         0           0   \n",
       "1  15.786517  17.048203              2         0        10           0   \n",
       "2  15.786517  17.048203              2        26         1           5   \n",
       "3  15.786517  17.048203              2       125        26           1   \n",
       "4  15.786517  17.048203              2         1        32         105   \n",
       "\n",
       "   class_label  extreme_cluster  month  year  \n",
       "0            2                0      2  2016  \n",
       "1            2                0      3  2016  \n",
       "2            2                0      6  2016  \n",
       "3            2                3      6  2016  \n",
       "4            2                2      6  2016  "
      ]
     },
     "execution_count": 52,
     "metadata": {},
     "output_type": "execute_result"
    }
   ],
   "source": [
    "all_df[\"month\"] = pd.DatetimeIndex(all_df['Date']).month\n",
    "all_df[\"year\"] = pd.DatetimeIndex(all_df['Date']).year\n",
    "all_df.head()"
   ]
  },
  {
   "cell_type": "code",
   "execution_count": 53,
   "id": "ec9c3868",
   "metadata": {},
   "outputs": [],
   "source": [
    "month_percent_list=[]\n",
    "month_amount_list = []\n",
    "for year in range(2016, 2021):\n",
    "    for month in range(1,13):\n",
    "        month_percent_list.append(all_df[(all_df[\"month\"] == month) & (all_df[\"year\"] == year)][\"class_label\"].value_counts(normalize=True))\n",
    "        month_amount_list.append(all_df[(all_df[\"month\"] == month) & (all_df[\"year\"] == year)][\"class_label\"].value_counts())"
   ]
  },
  {
   "cell_type": "code",
   "execution_count": 68,
   "id": "80f89e90",
   "metadata": {},
   "outputs": [],
   "source": [
    "month_percent_df = pd.concat(month_percent_list, axis=1)\n",
    "month_percent_df.columns = pd.date_range(\"2016-01-01\", periods=60, freq=\"M\")\n",
    "month_amount_df = pd.concat(month_amount_list, axis=1)\n",
    "month_amount_df.columns = pd.date_range(\"2016-01-01\", periods=60, freq=\"M\")"
   ]
  },
  {
   "cell_type": "code",
   "execution_count": 76,
   "id": "f0c216cf",
   "metadata": {
    "scrolled": true
   },
   "outputs": [
    {
     "data": {
      "image/png": "[encoded data removed]",
      "text/plain": [
       "<Figure size 600x300 with 1 Axes>"
      ]
     },
     "metadata": {},
     "output_type": "display_data"
    }
   ],
   "source": [
    "temp = month_percent_df.transpose()\n",
    "temp.columns = [\"cluster 0\", \"cluster 1\", \"cluster 2\"]\n",
    "fig, ax = plt.subplots()\n",
    "sns.lineplot(x = temp.index, y = \"cluster \" + str(0), data=temp, label = \"cluster \" + str(0),ax=ax)\n",
    "sns.lineplot(x = temp.index, y = \"cluster \" + str(1), data=temp, label = \"cluster \" + str(1),ax=ax)\n",
    "sns.lineplot(x = temp.index, y = \"cluster \" + str(2), data=temp, label = \"cluster \" + str(2),ax=ax)\n",
    "zero_mean = temp[\"cluster 0\"].mean()\n",
    "one_mean = temp[\"cluster 1\"].mean()\n",
    "two_mean = temp[\"cluster 2\"].mean()\n",
    "ax.axhline(y = zero_mean, color = 'c', linestyle = '-', alpha = 0.2)\n",
    "ax.axhline(y = one_mean, color = 'r', linestyle = '-', alpha = 0.2)\n",
    "ax.axhline(y = two_mean, color = 'k', linestyle = '-', alpha = 0.2)\n",
    "plt.legend(bbox_to_anchor=(1.05, 1), loc=2, borderaxespad=0.)\n",
    "plt.title(\"Relationship between time and presence of cluster\")\n",
    "plt.show()"
   ]
  },
  {
   "cell_type": "markdown",
   "id": "19fda254",
   "metadata": {},
   "source": [
    "Above we see that as time goes on, more time is spent on days with no rain (blue line is dominant) then normal rain. The amount of days spent in extreme rain is relatively stable with peaks usually taking place in the middle of the year.\n",
    "We will also use year and month as predictors for our model."
   ]
  },
  {
   "cell_type": "markdown",
   "id": "b6e955e1",
   "metadata": {},
   "source": [
    "Let us examine if there is a relationship between average precipitation at that location and extreme precipitation. As we saw earlier precipitation is distributed exponentially. Therefore, we will check both on normal and log scale."
   ]
  },
  {
   "cell_type": "code",
   "execution_count": 88,
   "id": "6b82dad5",
   "metadata": {
    "scrolled": true
   },
   "outputs": [
    {
     "data": {
      "image/png": "[encoded data removed]",
      "text/plain": [
       "<Figure size 600x300 with 1 Axes>"
      ]
     },
     "metadata": {},
     "output_type": "display_data"
    },
    {
     "data": {
      "image/png": "[encoded data removed]",
      "text/plain": [
       "<Figure size 600x300 with 1 Axes>"
      ]
     },
     "metadata": {},
     "output_type": "display_data"
    }
   ],
   "source": [
    "import numpy as np\n",
    "sns.scatterplot(x=\"avgPrcp\", y=\"label\", data=all_df)\n",
    "plt.title(\"Normal Scale\")\n",
    "plt.show()\n",
    "sns.scatterplot(x=\"avgPrcp\", y=\"label\", data=all_df[[\"avgPrcp\", \"label\"]].apply(np.log))\n",
    "plt.title(\"With Log Transformation\")\n",
    "plt.show()"
   ]
  },
  {
   "cell_type": "markdown",
   "id": "bf596d3f",
   "metadata": {},
   "source": [
    "There seems to be no concrete relationship. Therefore, we will not include it in our model. (The classification which is a result of \"label\" will also clearly not have a relationship.)"
   ]
  },
  {
   "cell_type": "markdown",
   "id": "c74870dc",
   "metadata": {},
   "source": [
    "In conclusion, in the sample set we have found a correlation between time (month, year), lags (the precipitation of the past three days) and the clusters based on the precipitation of the last three days to the target variable. Therefore, using them we will create our models features."
   ]
  },
  {
   "cell_type": "code",
   "execution_count": null,
   "id": "1a3d81bb",
   "metadata": {},
   "outputs": [],
   "source": [
    "PREPARE MODEL IN SPARK"
   ]
  },
  {
   "cell_type": "markdown",
   "id": "68ff0171",
   "metadata": {},
   "source": [
    "We will now add to the population (non-sample) dataframe the columns of month, year and clustering"
   ]
  },
  {
   "cell_type": "code",
   "execution_count": 121,
   "id": "8b980a77",
   "metadata": {},
   "outputs": [],
   "source": [
    "assembler1 = VectorAssembler(\n",
    "    inputCols=[\"one_PRCP\", \"two_PRCP\", \"three_PRCP\"],\n",
    "    outputCol=\"features\")\n",
    "cluster_features_df = assembler1.transform(classified_df)"
   ]
  },
  {
   "cell_type": "code",
   "execution_count": 122,
   "id": "c5cd86d8",
   "metadata": {},
   "outputs": [],
   "source": [
    "kmeans = KMeans().setK(4).setSeed(1)\n",
    "model = kmeans.fit(cluster_features_df)\n",
    "clustered_df = model.transform(cluster_features_df)"
   ]
  },
  {
   "cell_type": "code",
   "execution_count": 123,
   "id": "677d55bb",
   "metadata": {},
   "outputs": [],
   "source": [
    "time_clustered_df = clustered_df.withColumn(\"month\", F.month(F.col(\"date\"))).withColumn(\"year\", F.year(F.col(\"date\"))).drop(\"features\")"
   ]
  },
  {
   "cell_type": "code",
   "execution_count": 124,
   "id": "660bbe65",
   "metadata": {},
   "outputs": [],
   "source": [
    "encoder = OneHotEncoder(inputCols=[\"prediction\", \"month\", \"year\"],\n",
    "                        outputCols=[\"encoded_month\", \"encoded_cluster\", \"encoded_year\"])\n",
    "\n",
    "assembler2 = VectorAssembler(\n",
    "    inputCols=[\"encoded_cluster\", \"encoded_month\", \"encoded_year\", \"one_PRCP\", \"two_PRCP\", \"three_PRCP\"],\n",
    "    outputCol=\"features\")\n",
    "\n",
    "model = encoder.fit(time_clustered_df)\n",
    "encoded = model.transform(time_clustered_df)\n",
    "features_df = assembler2.transform(encoded)\n",
    "\n",
    "(trainingData, testData) = features_df.drop(\"prediction\", \"month\", \"year\").randomSplit([0.7, 0.3])"
   ]
  },
  {
   "cell_type": "code",
   "execution_count": null,
   "id": "cbad8853",
   "metadata": {},
   "outputs": [],
   "source": [
    "# compute accuracy on the test set\n",
    "evaluator = MulticlassClassificationEvaluator(labelCol=\"class_label\", predictionCol=\"prediction\",\n",
    "                                              metricName=\"f1\")"
   ]
  },
  {
   "cell_type": "markdown",
   "id": "456fed1e",
   "metadata": {},
   "source": [
    "MODEL SELECTION:"
   ]
  },
  {
   "cell_type": "markdown",
   "id": "0d89d113",
   "metadata": {},
   "source": [
    "We will establish random forest as a baseline because it assumes nothing on the data."
   ]
  },
  {
   "cell_type": "code",
   "execution_count": 101,
   "id": "1ae5e031",
   "metadata": {
    "scrolled": true
   },
   "outputs": [
    {
     "name": "stdout",
     "output_type": "stream",
     "text": [
      "Test set f1 = 0.3796796566687662\n",
      "Test set f1 = 0.3796796566687662\n",
      "Test set f1 = 0.3796796566687662\n"
     ]
    }
   ],
   "source": [
    "from pyspark.ml.classification import RandomForestClassifier\n",
    "for amount in [10, 50, 100]:\n",
    "    rf = RandomForestClassifier(labelCol=\"class_label\", numTrees = amount)\n",
    "    rfmodel = rf.fit(trainingData)\n",
    "    rfpredictions = rfmodel.transform(testData)\n",
    "    rff1 = evaluator.evaluate(rfpredictions)\n",
    "    print(\"Test set f1 = \" + str(rff1))"
   ]
  },
  {
   "cell_type": "markdown",
   "id": "ecfd3a73",
   "metadata": {},
   "source": [
    "Random Forest provides a slightly above random baseline prediction. Changing the hyperparameters does not affect at all the predictive power of the model"
   ]
  },
  {
   "cell_type": "markdown",
   "id": "6736f824",
   "metadata": {},
   "source": [
    "We propose that Naive Bayes with Laplace smoothing is an appropriate model (explained in PDF). Laplace smoothing is important because it is conceivable that in a particular month there is no label. For example, there was never an extreme amount of water in the middle of summer."
   ]
  },
  {
   "cell_type": "code",
   "execution_count": 103,
   "id": "41ee9330",
   "metadata": {
    "scrolled": false
   },
   "outputs": [
    {
     "name": "stdout",
     "output_type": "stream",
     "text": [
      "Smoothing parameter: 0.1\n",
      "Test set f1 = 0.5057659136730239\n",
      "Smoothing parameter: 0.5\n",
      "Test set f1 = 0.5058345138237277\n",
      "Smoothing parameter: 1.0\n"
     ]
    },
    {
     "name": "stderr",
     "output_type": "stream",
     "text": [
      "Exception ignored in: <function JavaWrapper.__del__ at 0x0000023789F9DC18>\n",
      "Traceback (most recent call last):\n",
      "  File \"C:\\BigDataLocalSetup\\spark\\python\\pyspark\\ml\\wrapper.py\", line 39, in __del__\n",
      "    if SparkContext._active_spark_context and self._java_obj is not None:\n",
      "AttributeError: 'RandomForestClassifier' object has no attribute '_java_obj'\n"
     ]
    },
    {
     "name": "stdout",
     "output_type": "stream",
     "text": [
      "Test set f1 = 0.5059024394332863\n",
      "Smoothing parameter: 1.5\n",
      "Test set f1 = 0.5060010240632339\n",
      "Smoothing parameter: 4\n",
      "Test set f1 = 0.5064734910824961\n"
     ]
    }
   ],
   "source": [
    "for parameter in [0.1, 0.5, 1.0, 1.5, 4]:  \n",
    "    print(\"Smoothing parameter: \" + str(parameter))\n",
    "    # create the model and set its parameters\n",
    "    nb = NaiveBayes(smoothing=parameter, modelType=\"multinomial\", labelCol=\"class_label\")\n",
    "\n",
    "    # train the model\n",
    "    nbmodel = nb.fit(trainingData)\n",
    "\n",
    "    # select example rows to display.\n",
    "    nbpredictions = nbmodel.transform(testData)\n",
    "    nbf1 = evaluator.evaluate(nbpredictions)\n",
    "    print(\"Test set f1 = \" + str(nbf1))"
   ]
  },
  {
   "cell_type": "markdown",
   "id": "59a4de34",
   "metadata": {},
   "source": [
    "We see that this models predictive power is much better than a random guess (0.33) and better than our baseline (0.37). Therefore, we propose as our model Naive Bayes with a smoothing value of 1."
   ]
  },
  {
   "cell_type": "code",
   "execution_count": 126,
   "id": "1a872858",
   "metadata": {},
   "outputs": [
    {
     "name": "stdout",
     "output_type": "stream",
     "text": [
      "Test set f1 = 0.5049401650330516\n"
     ]
    }
   ],
   "source": [
    "nb = NaiveBayes(smoothing=1, modelType=\"multinomial\", labelCol=\"class_label\")\n",
    "\n",
    "# train the model\n",
    "nbmodel = nb.fit(trainingData)\n",
    "\n",
    "# select example rows to display.\n",
    "nbpredictions = nbmodel.transform(testData)\n",
    "nbf1 = evaluator.evaluate(nbpredictions)\n",
    "print(\"Test set f1 = \" + str(nbf1))"
   ]
  }
 ],
 "metadata": {
  "kernelspec": {
   "display_name": "Python 3",
   "language": "python",
   "name": "python3"
  },
  "language_info": {
   "codemirror_mode": {
    "name": "ipython",
    "version": 3
   },
   "file_extension": ".py",
   "mimetype": "text/x-python",
   "name": "python",
   "nbconvert_exporter": "python",
   "pygments_lexer": "ipython3",
   "version": "3.7.10"
  }
 },
 "nbformat": 4,
 "nbformat_minor": 5
}
